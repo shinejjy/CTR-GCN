{
 "cells": [
  {
   "cell_type": "code",
   "execution_count": 21,
   "metadata": {
    "collapsed": true
   },
   "outputs": [],
   "source": [
    "import torch\n",
    "from feeders.feeder_ntu import Feeder\n",
    "\n",
    "test_feeder_args = {\n",
    "  'data_path': 'data/ntu/NTU60_CS.npz',\n",
    "  'split': 'test',\n",
    "  'window_size': 64,\n",
    "  'p_interval': [0.95],\n",
    "  'vel': False,\n",
    "  'bone': False,\n",
    "  'debug': False,\n",
    "}\n",
    "\n",
    "data_loader = torch.utils.data.DataLoader(\n",
    "                dataset=Feeder(**test_feeder_args),\n",
    "                batch_size=32,\n",
    "                shuffle=False,\n",
    "                num_workers=0,\n",
    "                drop_last=False,\n",
    "                worker_init_fn=1)"
   ]
  },
  {
   "cell_type": "code",
   "execution_count": 22,
   "outputs": [
    {
     "name": "stderr",
     "output_type": "stream",
     "text": [
      "  0%|           | 0/516 [00:00<?, ?it/s]"
     ]
    },
    {
     "name": "stdout",
     "output_type": "stream",
     "text": [
      "shape:  torch.Size([32, 3, 64, 25, 2]) \n",
      "index:  tensor([ 0,  1,  2,  3,  4,  5,  6,  7,  8,  9, 10, 11, 12, 13, 14, 15, 16, 17,\n",
      "        18, 19, 20, 21, 22, 23, 24, 25, 26, 27, 28, 29, 30, 31])\n"
     ]
    },
    {
     "name": "stderr",
     "output_type": "stream",
     "text": [
      "\n"
     ]
    }
   ],
   "source": [
    "from tqdm import tqdm\n",
    "\n",
    "process = tqdm(data_loader, ncols=40)\n",
    "\n",
    "for batch_idx, (data, label, index) in enumerate(process):\n",
    "    print('shape: ', data.shape, '\\nindex: ', index)\n",
    "    break"
   ],
   "metadata": {
    "collapsed": false
   }
  },
  {
   "cell_type": "code",
   "execution_count": 24,
   "outputs": [],
   "source": [
    "data = data.view(64, 64, 25, 3)"
   ],
   "metadata": {
    "collapsed": false
   }
  },
  {
   "cell_type": "code",
   "execution_count": 30,
   "outputs": [
    {
     "data": {
      "text/plain": "<Figure size 640x480 with 1 Axes>",
      "image/png": "[encoded data removed]"
     },
     "metadata": {},
     "output_type": "display_data"
    },
    {
     "data": {
      "text/plain": "(tensor([-0.0066,  0.0000,  0.0126,  0.0000, -0.2831,  0.0000,  0.2235,  0.0000,\n         -0.0795,  0.0000, -0.1628,  0.0000,  0.1025,  0.0000, -0.2973,  0.0000,\n          0.2430,  0.0000,  0.0143,  0.0000, -0.2251,  0.0000,  0.1705,  0.0000,\n          0.2436]),\n tensor([ 0.0000,  0.0139,  0.0000, -0.2252,  0.0000,  0.1702,  0.0000,  0.2149,\n          0.0000, -0.1882,  0.0000,  0.1027,  0.0000,  0.0109,  0.0000,  0.2186,\n          0.0000,  0.0034,  0.0000, -0.1559,  0.0000, -0.2809,  0.0000,  0.2357,\n          0.0000]))"
     },
     "execution_count": 30,
     "metadata": {},
     "output_type": "execute_result"
    }
   ],
   "source": [
    "import matplotlib.pyplot as plt\n",
    "\n",
    "# 假设 data 是你的四维数据\n",
    "data = data.view(64, 64, 25, 3)\n",
    "\n",
    "# 选择第一个 batch 的第一个帧\n",
    "frame_data = data[18, 0, :, :]\n",
    "\n",
    "# 获取xy坐标\n",
    "x = frame_data[:, 0]\n",
    "y = frame_data[:, 1]\n",
    "\n",
    "\n",
    "# 连接的骨骼点索引\n",
    "inward_ori_index = [(1, 2), (2, 21), (3, 21), (4, 3), (5, 21), (6, 5), (7, 6),\n",
    "                    (8, 7), (9, 21), (10, 9), (11, 10), (12, 11), (13, 1),\n",
    "                    (14, 13), (15, 14), (16, 15), (17, 1), (18, 17), (19, 18),\n",
    "                    (20, 19), (22, 23), (23, 8), (24, 25), (25, 12)]\n",
    "\n",
    "# 创建一个图形\n",
    "fig, ax = plt.subplots()\n",
    "\n",
    "# 使用scatter函数绘制散点图\n",
    "ax.scatter(x, y, marker='o')\n",
    "\n",
    "# # 使用plot函数绘制连接的线\n",
    "# for start, end in inward_ori_index:\n",
    "#     ax.plot([x[start-1], x[end-1]], [y[start-1], y[end-1]], color='blue')\n",
    "\n",
    "# 设置图形参数\n",
    "ax.set_xlabel('X 轴')\n",
    "ax.set_ylabel('Y 轴')\n",
    "\n",
    "# 显示图形\n",
    "plt.show()\n",
    "\n",
    "x, y"
   ],
   "metadata": {
    "collapsed": false
   }
  },
  {
   "cell_type": "code",
   "execution_count": null,
   "outputs": [],
   "source": [],
   "metadata": {
    "collapsed": false
   }
  }
 ],
 "metadata": {
  "kernelspec": {
   "display_name": "Python 3",
   "language": "python",
   "name": "python3"
  },
  "language_info": {
   "codemirror_mode": {
    "name": "ipython",
    "version": 2
   },
   "file_extension": ".py",
   "mimetype": "text/x-python",
   "name": "python",
   "nbconvert_exporter": "python",
   "pygments_lexer": "ipython2",
   "version": "2.7.6"
  }
 },
 "nbformat": 4,
 "nbformat_minor": 0
}
